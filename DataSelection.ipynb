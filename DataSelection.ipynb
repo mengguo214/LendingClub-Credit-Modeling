{
 "cells": [
  {
   "cell_type": "code",
   "execution_count": 2,
   "metadata": {},
   "outputs": [],
   "source": [
    "import pandas as pd\n",
    "import numpy as np\n",
    "import warnings\n",
    "warnings.filterwarnings(\"ignore\")"
   ]
  },
  {
   "cell_type": "markdown",
   "metadata": {},
   "source": [
    "# 组合数据"
   ]
  },
  {
   "cell_type": "code",
   "execution_count": 8,
   "metadata": {
    "scrolled": true
   },
   "outputs": [],
   "source": [
    "m2018 = pd.read_csv('./LC/MORTGAG2018.csv')\n",
    "m2017 = pd.read_csv('./LC/MORTGAG2017.csv')\n",
    "m2016 =pd.read_csv('./LC/MORTGAG2016.csv')\n",
    "m2015 =pd.read_csv('./LC/MORTGAG2015.csv')\n",
    "m2014 =pd.read_csv('./LC/MORTGAG2014.csv')\n",
    "m2012_13 =pd.read_csv('./LC/MORTGAG2012-2013.csv')\n",
    "m2007_11  =pd.read_csv('./LC/MORTGAG2007-2011.csv')"
   ]
  },
  {
   "cell_type": "code",
   "execution_count": 9,
   "metadata": {},
   "outputs": [],
   "source": [
    "m2018['year'] = m2018['id'].map(lambda x: 2018)\n",
    "m2017['year'] = m2017['id'].map(lambda x: 2017)\n",
    "m2016['year'] = m2016['id'].map(lambda x: 2016)\n",
    "m2015['year'] = m2015['id'].map(lambda x: 2015)\n",
    "m2014['year'] = m2014['id'].map(lambda x: 2014)\n",
    "m2012_13['year'] = m2012_13['id'].map(lambda x: '2012-2013')\n",
    "m2007_11['year'] = m2007_11['id'].map(lambda x: '2007-2011')"
   ]
  },
  {
   "cell_type": "code",
   "execution_count": 10,
   "metadata": {},
   "outputs": [
    {
     "data": {
      "text/plain": [
       "[(239220, 151),\n",
       " (217123, 151),\n",
       " (211516, 151),\n",
       " (207683, 151),\n",
       " (119937, 151),\n",
       " (97012, 151),\n",
       " (18959, 151)]"
      ]
     },
     "execution_count": 10,
     "metadata": {},
     "output_type": "execute_result"
    }
   ],
   "source": [
    "[m2018.shape,m2017.shape,m2016.shape,m2015.shape,m2014.shape,m2012_13.shape,m2007_11.shape]"
   ]
  },
  {
   "cell_type": "code",
   "execution_count": 11,
   "metadata": {},
   "outputs": [],
   "source": [
    "total = pd.concat([m2014,m2015,m2016,m2017,m2018,m2012_13,m2007_11],axis=0)"
   ]
  },
  {
   "cell_type": "code",
   "execution_count": 12,
   "metadata": {},
   "outputs": [
    {
     "data": {
      "text/plain": [
       "(1111450, 151)"
      ]
     },
     "execution_count": 12,
     "metadata": {},
     "output_type": "execute_result"
    }
   ],
   "source": [
    "total.shape"
   ]
  },
  {
   "cell_type": "code",
   "execution_count": 13,
   "metadata": {},
   "outputs": [],
   "source": [
    "total.to_csv('MORTGAG_TOTAL_07_18.csv')"
   ]
  },
  {
   "cell_type": "markdown",
   "metadata": {},
   "source": [
    "# 根据马尼拉方法取数\n",
    "## Reload"
   ]
  },
  {
   "cell_type": "code",
   "execution_count": 3,
   "metadata": {},
   "outputs": [],
   "source": [
    "total = pd.read_csv('./MORTGAG_TOTAL_07_18.csv')"
   ]
  },
  {
   "cell_type": "code",
   "execution_count": 14,
   "metadata": {},
   "outputs": [],
   "source": [
    "total_ = total[[\"id\",'year',\"loan_amnt\",\"term\",\"funded_amnt\",\"int_rate\",\"grade\",\"installment\",\n",
    "                      \"sub_grade\",\"loan_status\",\"purpose\",\"title\",\"zip_code\",\"dti\",\n",
    "                      \"fico_range_low\",\"emp_length\",\"revol_bal\",\"revol_util\", \"all_util\",\n",
    "                      \"home_ownership\",\"annual_inc\",\"total_rec_prncp\",\"verification_status\",\"last_pymnt_d\",\n",
    "                      \"out_prncp\",\"total_pymnt\",\"emp_title\",\"desc\",\"addr_state\",\"delinq_2yrs\",\"inq_last_6mths\",\n",
    "                      \"open_acc\",\"earliest_cr_line\",\"pub_rec\",\"total_acc\",\"initial_list_status\",\"pub_rec_bankruptcies\"]]"
   ]
  },
  {
   "cell_type": "code",
   "execution_count": 15,
   "metadata": {
    "scrolled": true
   },
   "outputs": [
    {
     "data": {
      "text/plain": [
       "loan_status\n",
       "Charged Off                                            128012\n",
       "Current                                                342918\n",
       "Default                                                    16\n",
       "Does not meet the credit policy. Status:Charged Off       348\n",
       "Does not meet the credit policy. Status:Fully Paid        908\n",
       "Fully Paid                                             623968\n",
       "In Grace Period                                          4178\n",
       "Late (16-30 days)                                        2044\n",
       "Late (31-120 days)                                       9058\n",
       "Name: id, dtype: int64"
      ]
     },
     "execution_count": 15,
     "metadata": {},
     "output_type": "execute_result"
    }
   ],
   "source": [
    "total_.groupby('loan_status')['id'].count()"
   ]
  },
  {
   "cell_type": "code",
   "execution_count": 16,
   "metadata": {},
   "outputs": [],
   "source": [
    "total_ = total_.loc[total_['loan_status']!='Current']"
   ]
  },
  {
   "cell_type": "code",
   "execution_count": 18,
   "metadata": {},
   "outputs": [],
   "source": [
    "total_['default'] = total_['loan_status'].apply(lambda x: 1 if (x!=\"Fully Paid\") & (x!='Does not meet the credit policy. Status:Fully Paid') else 0)"
   ]
  },
  {
   "cell_type": "code",
   "execution_count": 19,
   "metadata": {},
   "outputs": [
    {
     "data": {
      "text/plain": [
       "loan_status\n",
       "Charged Off                                            128012\n",
       "Default                                                    16\n",
       "Does not meet the credit policy. Status:Charged Off       348\n",
       "Does not meet the credit policy. Status:Fully Paid        908\n",
       "Fully Paid                                             623968\n",
       "In Grace Period                                          4178\n",
       "Late (16-30 days)                                        2044\n",
       "Late (31-120 days)                                       9058\n",
       "Name: id, dtype: int64"
      ]
     },
     "execution_count": 19,
     "metadata": {},
     "output_type": "execute_result"
    }
   ],
   "source": [
    "total_.groupby('loan_status')['id'].count()"
   ]
  },
  {
   "cell_type": "code",
   "execution_count": 20,
   "metadata": {},
   "outputs": [
    {
     "data": {
      "text/plain": [
       "default\n",
       "0    624876\n",
       "1    143656\n",
       "Name: id, dtype: int64"
      ]
     },
     "execution_count": 20,
     "metadata": {},
     "output_type": "execute_result"
    }
   ],
   "source": [
    "total_.groupby('default')['id'].count()"
   ]
  },
  {
   "cell_type": "code",
   "execution_count": 21,
   "metadata": {},
   "outputs": [],
   "source": [
    "total_.to_csv('MORTGAG07-18_TOTAL_WITH_DEFAULT_SELECTED.csv')"
   ]
  },
  {
   "cell_type": "code",
   "execution_count": 22,
   "metadata": {},
   "outputs": [
    {
     "name": "stdout",
     "output_type": "stream",
     "text": [
      "default  year     \n",
      "0        2014          98171\n",
      "         2015         154021\n",
      "         2016         141486\n",
      "         2017          86020\n",
      "         2018          45837\n",
      "         2007-2011     16260\n",
      "         2012-2013     83081\n",
      "1        2014          18875\n",
      "         2015          33747\n",
      "         2016          32832\n",
      "         2017          26197\n",
      "         2018          15375\n",
      "         2007-2011      2699\n",
      "         2012-2013     13931\n",
      "Name: id, dtype: int64\n"
     ]
    }
   ],
   "source": [
    "print(total_.groupby(['default','year'])['id'].count())"
   ]
  },
  {
   "cell_type": "code",
   "execution_count": 24,
   "metadata": {},
   "outputs": [
    {
     "data": {
      "text/plain": [
       "year\n",
       "2014         117046\n",
       "2015         187768\n",
       "2016         174318\n",
       "2017         112217\n",
       "2018          61212\n",
       "2007-2011     18959\n",
       "2012-2013     97012\n",
       "Name: id, dtype: int64"
      ]
     },
     "execution_count": 24,
     "metadata": {},
     "output_type": "execute_result"
    }
   ],
   "source": [
    "total_.groupby(['year'])['id'].count()"
   ]
  },
  {
   "cell_type": "code",
   "execution_count": null,
   "metadata": {},
   "outputs": [],
   "source": []
  }
 ],
 "metadata": {
  "kernelspec": {
   "display_name": "Python 3",
   "language": "python",
   "name": "python3"
  },
  "language_info": {
   "codemirror_mode": {
    "name": "ipython",
    "version": 3
   },
   "file_extension": ".py",
   "mimetype": "text/x-python",
   "name": "python",
   "nbconvert_exporter": "python",
   "pygments_lexer": "ipython3",
   "version": "3.6.5"
  }
 },
 "nbformat": 4,
 "nbformat_minor": 2
}
